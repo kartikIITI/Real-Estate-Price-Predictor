{
 "cells": [
  {
   "cell_type": "code",
   "execution_count": 4,
   "id": "02d239a8-9ad2-4463-8834-91758f851784",
   "metadata": {},
   "outputs": [],
   "source": [
    "from joblib import dump, load\n",
    "import numpy as np\n",
    "model = load('Dragon.joblib')"
   ]
  },
  {
   "cell_type": "code",
   "execution_count": 16,
   "id": "03b41427-a0e2-4d69-ac97-2d91087f155f",
   "metadata": {},
   "outputs": [
    {
     "data": {
      "text/plain": [
       "array([21.515])"
      ]
     },
     "execution_count": 16,
     "metadata": {},
     "output_type": "execute_result"
    }
   ],
   "source": [
    "input = np.array([[-0.43942006,  1100.12628155, -1.12165014, -1000000.27288841, -7889.42262747,\n",
    "       -1000.24471786, -1.31238772,  2.61111401, -1.0016859 , -0.5778192 ,\n",
    "       -0.97491834,  0.41164221, -0.86091034]])\n",
    "model.predict(input)"
   ]
  }
 ],
 "metadata": {
  "kernelspec": {
   "display_name": "Python 3 (ipykernel)",
   "language": "python",
   "name": "python3"
  },
  "language_info": {
   "codemirror_mode": {
    "name": "ipython",
    "version": 3
   },
   "file_extension": ".py",
   "mimetype": "text/x-python",
   "name": "python",
   "nbconvert_exporter": "python",
   "pygments_lexer": "ipython3",
   "version": "3.11.7"
  }
 },
 "nbformat": 4,
 "nbformat_minor": 5
}
